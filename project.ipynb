{
 "cells": [
  {
   "cell_type": "code",
   "execution_count": null,
   "metadata": {
    "collapsed": true
   },
   "outputs": [],
   "source": [
    "import os\n",
    "import numpy as np\n",
    "import cv2\n",
    "import matplotlib.pyplot as plt\n",
    "import matplotlib.image as mpimg\n",
    "%matplotlib inline"
   ]
  },
  {
   "cell_type": "code",
   "execution_count": null,
   "metadata": {
    "collapsed": false
   },
   "outputs": [],
   "source": [
    "IMG_DIR = 'camera_cal'\n",
    "NX, NY = 9, 6  # number of points on a chessboard\n",
    "\n",
    "objpoints = []  # 3d points in real world space\n",
    "imgpoints = []  # 2d points in image plane.\n",
    "\n",
    "objp = np.zeros((NX * NY, 3), np.float32)\n",
    "objp[:, :2] = np.mgrid[0:NX, 0:NY].T.reshape(-1, 2)\n",
    "\n",
    "# get the list of calibration images\n",
    "images = [os.path.join(IMG_DIR, filename) for filename in os.listdir(IMG_DIR)]\n",
    "\n",
    "for image in images:\n",
    "    img = cv2.imread(image)\n",
    "\n",
    "    # convert to grayscale\n",
    "    gray = cv2.cvtColor(img, cv2.COLOR_BGR2GRAY)\n",
    "    \n",
    "    # find the chessboard corners\n",
    "    ret, corners = cv2.findChessboardCorners(gray, (NX, NY), None)\n",
    "    \n",
    "    if ret:\n",
    "        objpoints.append(objp)\n",
    "        imgpoints.append(corners)"
   ]
  },
  {
   "cell_type": "code",
   "execution_count": null,
   "metadata": {
    "collapsed": false
   },
   "outputs": [],
   "source": [
    "test_image = 'camera_cal/calibration1.jpg'\n",
    "img = cv2.imread(test_image)\n",
    "\n",
    "ret, mtx, dist, rvecs, tvecs = cv2.calibrateCamera(objpoints, imgpoints, (img.shape[1], img.shape[0]), None, None)\n",
    "dst = cv2.undistort(img, mtx, dist, None, mtx)\n",
    "\n",
    "f, (ax1, ax2) = plt.subplots(1, 2, figsize=(20, 10))\n",
    "ax1.imshow(img)\n",
    "ax1.set_title('Original Image', fontsize=20)\n",
    "ax2.imshow(dst)\n",
    "ax2.set_title('Undistorted Image', fontsize=20)"
   ]
  },
  {
   "cell_type": "code",
   "execution_count": null,
   "metadata": {
    "collapsed": false
   },
   "outputs": [],
   "source": [
    "test_image = 'test_images/test1.jpg'\n",
    "img = cv2.imread(test_image)\n",
    "img = cv2.cvtColor(img, cv2.COLOR_BGR2RGB)\n",
    "\n",
    "ret, mtx, dist, rvecs, tvecs = cv2.calibrateCamera(objpoints, imgpoints, (img.shape[1], img.shape[0]), None, None)\n",
    "dst = cv2.undistort(img, mtx, dist, None, mtx)\n",
    "\n",
    "f, (ax1, ax2) = plt.subplots(1, 2, figsize=(20, 10))\n",
    "ax1.imshow(img)\n",
    "ax1.set_title('Original Image', fontsize=20)\n",
    "ax2.imshow(dst)\n",
    "ax2.set_title('Undistorted Image', fontsize=20)"
   ]
  },
  {
   "cell_type": "code",
   "execution_count": null,
   "metadata": {
    "collapsed": false
   },
   "outputs": [],
   "source": [
    "test_image = 'test_images/test1.jpg'\n",
    "img = cv2.imread(test_image)\n",
    "hls = cv2.cvtColor(img, cv2.COLOR_BGR2HLS)\n",
    "rgb = cv2.cvtColor(img, cv2.COLOR_BGR2RGB)\n",
    "\n",
    "plt.figure(figsize=(30, 10))\n",
    "\n",
    "for i in range(3):\n",
    "    ax = plt.subplot(2, 3, i + 1)\n",
    "    ax.set_title('RGB'[i], fontsize=20)\n",
    "    ax.imshow(rgb[:, :, i], cmap='gray')\n",
    "\n",
    "for i in range(3):\n",
    "    ax = plt.subplot(2, 3, i + 4)\n",
    "    ax.set_title('HLS'[i], fontsize=20)\n",
    "    ax.imshow(hls[:, :, i], cmap='gray')"
   ]
  },
  {
   "cell_type": "code",
   "execution_count": null,
   "metadata": {
    "collapsed": false
   },
   "outputs": [],
   "source": [
    "s = hls[:, :, 2]\n",
    "thresh = (90, 255)\n",
    "s_binary = np.zeros_like(s)\n",
    "s_binary[(s >= thresh[0]) & (s <= thresh[1])] = 1\n",
    "f, (ax1, ax2) = plt.subplots(1, 2, figsize=(20, 10))\n",
    "ax1.imshow(s, cmap='gray')\n",
    "ax1.set_title('S', fontsize=20)\n",
    "ax2.imshow(s_binary, cmap='gray')\n",
    "ax2.set_title('binary S, threshold = {}:{}'.format(*thresh), fontsize=20)"
   ]
  },
  {
   "cell_type": "code",
   "execution_count": null,
   "metadata": {
    "collapsed": false
   },
   "outputs": [],
   "source": [
    "r = rgb[:, :, 0]\n",
    "thresh = (220, 255)\n",
    "binary = np.zeros_like(r)\n",
    "binary[(r >= thresh[0]) & (r <= thresh[1])] = 1\n",
    "f, (ax1, ax2) = plt.subplots(1, 2, figsize=(20, 10))\n",
    "ax1.imshow(r, cmap='gray')\n",
    "ax1.set_title('R', fontsize=20)\n",
    "ax2.imshow(binary, cmap='gray')\n",
    "ax2.set_title('binary R, threshold = {}:{}'.format(*thresh), fontsize=20)"
   ]
  },
  {
   "cell_type": "code",
   "execution_count": null,
   "metadata": {
    "collapsed": false
   },
   "outputs": [],
   "source": [
    "gray = cv2.cvtColor(img, cv2.COLOR_BGR2GRAY)\n",
    "sobel = cv2.Sobel(s, cv2.CV_64F, 1, 0)\n",
    "sobel = np.absolute(sobel)\n",
    "sobel = np.uint8(255 * sobel / np.max(sobel))\n",
    "thresh = (30, 100)\n",
    "sobel_binary = np.zeros_like(sobel)\n",
    "sobel_binary[(sobel >= thresh[0]) & (sobel <= thresh[1])] = 1\n",
    "f, (ax1, ax2) = plt.subplots(1, 2, figsize=(20, 10))\n",
    "ax1.imshow(sobel, cmap='gray')\n",
    "ax1.set_title('gradient', fontsize=20)\n",
    "ax2.imshow(sobel_binary, cmap='gray')\n",
    "ax2.set_title('binary gradient, threshold = {}:{}'.format(*thresh), fontsize=20)"
   ]
  },
  {
   "cell_type": "code",
   "execution_count": null,
   "metadata": {
    "collapsed": false
   },
   "outputs": [],
   "source": [
    "color_binary = np.dstack((255 * s_binary, 255 * sobel_binary, np.zeros_like(s_binary)))\n",
    "\n",
    "# Combine the two binary thresholds\n",
    "combined_binary = np.zeros_like(s_binary)\n",
    "combined_binary[(s_binary == 1) | (sobel_binary == 1)] = 1\n",
    "\n",
    "# Plotting thresholded images\n",
    "f, (ax1, ax2) = plt.subplots(1, 2, figsize=(20, 10))\n",
    "ax1.set_title('Stacked thresholds', fontsize=20)\n",
    "ax1.imshow(color_binary, cmap='gray')\n",
    "\n",
    "ax2.set_title('Combined S channel and gradient thresholds', fontsize=20)\n",
    "ax2.imshow(combined_binary, cmap='gray')"
   ]
  },
  {
   "cell_type": "code",
   "execution_count": null,
   "metadata": {
    "collapsed": true
   },
   "outputs": [],
   "source": [
    "def pipeline(image, mtx, dist):\n",
    "    img = np.copy(image)\n",
    "    img = cv2.undistort(img, mtx, dist, None, mtx)\n",
    "\n",
    "    hls = cv2.cvtColor(img, cv2.COLOR_BGR2HLS)\n",
    "    s = hls[:, :, 2]\n",
    "    thresh = (90, 255)\n",
    "    s_binary = np.zeros_like(s)\n",
    "    s_binary[(s >= thresh[0]) & (s <= thresh[1])] = 1\n",
    "\n",
    "    gray = cv2.cvtColor(img, cv2.COLOR_BGR2GRAY)\n",
    "    sobel = cv2.Sobel(s, cv2.CV_64F, 1, 0)\n",
    "    sobel = np.absolute(sobel)\n",
    "    sobel = np.uint8(255 * sobel / np.max(sobel))\n",
    "    thresh = (20, 100)\n",
    "    sobel_binary = np.zeros_like(sobel)\n",
    "    sobel_binary[(sobel >= thresh[0]) & (sobel <= thresh[1])] = 1\n",
    "\n",
    "    combined_binary = np.zeros_like(s_binary)\n",
    "    combined_binary[(s_binary == 1) | (sobel_binary == 1)] = 1\n",
    "    return combined_binary"
   ]
  },
  {
   "cell_type": "code",
   "execution_count": null,
   "metadata": {
    "collapsed": false
   },
   "outputs": [],
   "source": [
    "test_image = 'test_images/straight_lines1.jpg'\n",
    "img = cv2.imread(test_image)\n",
    "f, (ax1, ax2) = plt.subplots(1, 2, figsize=(20, 10))\n",
    "ax1.set_title('original image', fontsize=20)\n",
    "ax1.imshow(cv2.cvtColor(img, cv2.COLOR_BGR2RGB))\n",
    "\n",
    "ax2.set_title('undistorted, combined s channel and gradient thresholds', fontsize=20)\n",
    "ax2.imshow(pipeline(img, mtx, dist), cmap='gray')"
   ]
  },
  {
   "cell_type": "code",
   "execution_count": null,
   "metadata": {
    "collapsed": false
   },
   "outputs": [],
   "source": [
    "from matplotlib.path import Path\n",
    "import matplotlib.patches as patches\n",
    "height = img.shape[0]\n",
    "\n",
    "src = np.float32([(190, 719), (577, 460), (705, 460), (1120, 719)])\n",
    "plt.figure(figsize=(20, 10))\n",
    "plt.imshow(cv2.cvtColor(img, cv2.COLOR_BGR2RGB))\n",
    "plt.plot([src[i][0] for i in range(4)],\n",
    "         [src[i][1] for i in range(4)],\n",
    "         'r-', lw=2)"
   ]
  },
  {
   "cell_type": "code",
   "execution_count": null,
   "metadata": {
    "collapsed": false
   },
   "outputs": [],
   "source": [
    "#src = np.float32([(190, 719), (534, 490), (753, 490), (1120, 719)])\n",
    "dst = np.float32([(190, 719), (190, 0), (1120, 0), (1120, 719)])\n",
    "M = cv2.getPerspectiveTransform(src, dst)\n",
    "warped = cv2.warpPerspective(img, M, (img.shape[1], img.shape[0]))\n",
    "plt.figure(figsize=(20, 10))\n",
    "plt.imshow(cv2.cvtColor(warped, cv2.COLOR_BGR2RGB))\n",
    "plt.plot([dst[i][0] for i in range(4)], [dst[i][1] for i in range(4)], 'r-', lw=2)"
   ]
  },
  {
   "cell_type": "code",
   "execution_count": null,
   "metadata": {
    "collapsed": true
   },
   "outputs": [],
   "source": [
    "def pipeline(image, mtx, dist, M):\n",
    "    img = np.copy(image)\n",
    "    img = cv2.undistort(img, mtx, dist, None, mtx)\n",
    "\n",
    "    hls = cv2.cvtColor(img, cv2.COLOR_BGR2HLS)\n",
    "    s = hls[:, :, 2]\n",
    "    thresh = (90, 255)\n",
    "    s_binary = np.zeros_like(s)\n",
    "    s_binary[(s >= thresh[0]) & (s <= thresh[1])] = 1\n",
    "\n",
    "    gray = cv2.cvtColor(img, cv2.COLOR_BGR2GRAY)\n",
    "    sobel = cv2.Sobel(s, cv2.CV_64F, 1, 0)\n",
    "    sobel = np.absolute(sobel)\n",
    "    sobel = np.uint8(255 * sobel / np.max(sobel))\n",
    "    thresh = (30, 100)\n",
    "    sobel_binary = np.zeros_like(sobel)\n",
    "    sobel_binary[(sobel >= thresh[0]) & (sobel <= thresh[1])] = 1\n",
    "\n",
    "    combined_binary = np.zeros_like(s_binary)\n",
    "    combined_binary[(s_binary == 1) | (sobel_binary == 1)] = 1\n",
    "    \n",
    "    warped = cv2.warpPerspective(combined_binary, M, (img.shape[1], img.shape[0]))\n",
    "    return warped"
   ]
  },
  {
   "cell_type": "code",
   "execution_count": null,
   "metadata": {
    "collapsed": false
   },
   "outputs": [],
   "source": [
    "test_image = 'test_images/straight_lines1.jpg'\n",
    "img = cv2.imread(test_image)\n",
    "f, (ax1, ax2) = plt.subplots(1, 2, figsize=(20, 10))\n",
    "ax1.set_title('original image', fontsize=20)\n",
    "ax1.imshow(cv2.cvtColor(img, cv2.COLOR_BGR2RGB))\n",
    "\n",
    "ax2.set_title('undistorted, combined s channel and gradient thresholds', fontsize=20)\n",
    "ax2.imshow(pipeline(img, mtx, dist, M), cmap='gray')"
   ]
  },
  {
   "cell_type": "code",
   "execution_count": null,
   "metadata": {
    "collapsed": true
   },
   "outputs": [],
   "source": []
  },
  {
   "cell_type": "code",
   "execution_count": null,
   "metadata": {
    "collapsed": true
   },
   "outputs": [],
   "source": []
  }
 ],
 "metadata": {
  "kernelspec": {
   "display_name": "Python 3",
   "language": "python",
   "name": "python3"
  },
  "language_info": {
   "codemirror_mode": {
    "name": "ipython",
    "version": 3
   },
   "file_extension": ".py",
   "mimetype": "text/x-python",
   "name": "python",
   "nbconvert_exporter": "python",
   "pygments_lexer": "ipython3",
   "version": "3.6.0"
  }
 },
 "nbformat": 4,
 "nbformat_minor": 2
}
