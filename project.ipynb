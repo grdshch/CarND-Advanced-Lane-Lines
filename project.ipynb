{
 "cells": [
  {
   "cell_type": "code",
   "execution_count": null,
   "metadata": {
    "collapsed": true
   },
   "outputs": [],
   "source": [
    "import os\n",
    "import numpy as np\n",
    "import cv2\n",
    "import matplotlib.pyplot as plt\n",
    "import matplotlib.image as mpimg\n",
    "%matplotlib inline"
   ]
  },
  {
   "cell_type": "code",
   "execution_count": null,
   "metadata": {
    "collapsed": false
   },
   "outputs": [],
   "source": [
    "IMG_DIR = 'camera_cal'\n",
    "NX, NY = 9, 6  # number of points on a chessboard\n",
    "\n",
    "objpoints = []  # 3d points in real world space\n",
    "imgpoints = []  # 2d points in image plane.\n",
    "\n",
    "objp = np.zeros((NX * NY, 3), np.float32)\n",
    "objp[:, :2] = np.mgrid[0:NX, 0:NY].T.reshape(-1, 2)\n",
    "\n",
    "# get the list of calibration images\n",
    "images = [os.path.join(IMG_DIR, filename) for filename in os.listdir(IMG_DIR)]\n",
    "\n",
    "for image in images:\n",
    "    img = cv2.imread(image)\n",
    "\n",
    "    # convert to grayscale\n",
    "    gray = cv2.cvtColor(img, cv2.COLOR_BGR2GRAY)\n",
    "    \n",
    "    # find the chessboard corners\n",
    "    ret, corners = cv2.findChessboardCorners(gray, (NX, NY), None)\n",
    "    \n",
    "    if ret:\n",
    "        objpoints.append(objp)\n",
    "        imgpoints.append(corners)"
   ]
  },
  {
   "cell_type": "code",
   "execution_count": null,
   "metadata": {
    "collapsed": false
   },
   "outputs": [],
   "source": [
    "test_image = 'camera_cal/calibration1.jpg'\n",
    "img = cv2.imread(test_image)\n",
    "\n",
    "ret, mtx, dist, rvecs, tvecs = cv2.calibrateCamera(objpoints, imgpoints, (img.shape[1], img.shape[0]), None, None)\n",
    "dst = cv2.undistort(img, mtx, dist, None, mtx)\n",
    "\n",
    "f, (ax1, ax2) = plt.subplots(1, 2, figsize=(20, 10))\n",
    "ax1.imshow(img)\n",
    "ax1.set_title('Original Image', fontsize=20)\n",
    "ax2.imshow(dst)\n",
    "ax2.set_title('Undistorted Image', fontsize=20)"
   ]
  },
  {
   "cell_type": "code",
   "execution_count": null,
   "metadata": {
    "collapsed": false
   },
   "outputs": [],
   "source": [
    "test_image = 'test_images/test1.jpg'\n",
    "img = cv2.imread(test_image)\n",
    "img = cv2.cvtColor(img, cv2.COLOR_BGR2RGB)\n",
    "\n",
    "ret, mtx, dist, rvecs, tvecs = cv2.calibrateCamera(objpoints, imgpoints, (img.shape[1], img.shape[0]), None, None)\n",
    "dst = cv2.undistort(img, mtx, dist, None, mtx)\n",
    "\n",
    "f, (ax1, ax2) = plt.subplots(1, 2, figsize=(20, 10))\n",
    "ax1.imshow(img)\n",
    "ax1.set_title('Original Image', fontsize=20)\n",
    "ax2.imshow(dst)\n",
    "ax2.set_title('Undistorted Image', fontsize=20)"
   ]
  },
  {
   "cell_type": "code",
   "execution_count": null,
   "metadata": {
    "collapsed": false
   },
   "outputs": [],
   "source": [
    "test_image = 'test_images/test1.jpg'\n",
    "img = cv2.imread(test_image)\n",
    "hls = cv2.cvtColor(img, cv2.COLOR_BGR2HLS)\n",
    "rgb = cv2.cvtColor(img, cv2.COLOR_BGR2RGB)\n",
    "\n",
    "plt.figure(figsize=(30, 10))\n",
    "\n",
    "for i in range(3):\n",
    "    ax = plt.subplot(2, 3, i + 1)\n",
    "    ax.set_title('RGB'[i], fontsize=20)\n",
    "    ax.imshow(rgb[:, :, i], cmap='gray')\n",
    "\n",
    "for i in range(3):\n",
    "    ax = plt.subplot(2, 3, i + 4)\n",
    "    ax.set_title('HLS'[i], fontsize=20)\n",
    "    ax.imshow(hls[:, :, i], cmap='gray')"
   ]
  },
  {
   "cell_type": "code",
   "execution_count": null,
   "metadata": {
    "collapsed": false
   },
   "outputs": [],
   "source": [
    "s = hls[:, :, 2]\n",
    "thresh = (90, 255)\n",
    "s_binary = np.zeros_like(s)\n",
    "s_binary[(s >= thresh[0]) & (s <= thresh[1])] = 1\n",
    "f, (ax1, ax2) = plt.subplots(1, 2, figsize=(20, 10))\n",
    "ax1.imshow(s, cmap='gray')\n",
    "ax1.set_title('S', fontsize=20)\n",
    "ax2.imshow(s_binary, cmap='gray')\n",
    "ax2.set_title('binary S, threshold = {}:{}'.format(*thresh), fontsize=20)"
   ]
  },
  {
   "cell_type": "code",
   "execution_count": null,
   "metadata": {
    "collapsed": false
   },
   "outputs": [],
   "source": [
    "r = rgb[:, :, 0]\n",
    "thresh = (220, 255)\n",
    "binary = np.zeros_like(r)\n",
    "binary[(r >= thresh[0]) & (r <= thresh[1])] = 1\n",
    "f, (ax1, ax2) = plt.subplots(1, 2, figsize=(20, 10))\n",
    "ax1.imshow(r, cmap='gray')\n",
    "ax1.set_title('R', fontsize=20)\n",
    "ax2.imshow(binary, cmap='gray')\n",
    "ax2.set_title('binary R, threshold = {}:{}'.format(*thresh), fontsize=20)"
   ]
  },
  {
   "cell_type": "code",
   "execution_count": null,
   "metadata": {
    "collapsed": false
   },
   "outputs": [],
   "source": [
    "gray = cv2.cvtColor(img, cv2.COLOR_BGR2GRAY)\n",
    "sobel = cv2.Sobel(s, cv2.CV_64F, 1, 0)\n",
    "sobel = np.absolute(sobel)\n",
    "sobel = np.uint8(255 * sobel / np.max(sobel))\n",
    "thresh = (30, 100)\n",
    "sobel_binary = np.zeros_like(sobel)\n",
    "sobel_binary[(sobel >= thresh[0]) & (sobel <= thresh[1])] = 1\n",
    "f, (ax1, ax2) = plt.subplots(1, 2, figsize=(20, 10))\n",
    "ax1.imshow(sobel, cmap='gray')\n",
    "ax1.set_title('gradient', fontsize=20)\n",
    "ax2.imshow(sobel_binary, cmap='gray')\n",
    "ax2.set_title('binary gradient, threshold = {}:{}'.format(*thresh), fontsize=20)"
   ]
  },
  {
   "cell_type": "code",
   "execution_count": null,
   "metadata": {
    "collapsed": false
   },
   "outputs": [],
   "source": [
    "color_binary = np.dstack((255 * s_binary, 255 * sobel_binary, np.zeros_like(s_binary)))\n",
    "\n",
    "# Combine the two binary thresholds\n",
    "combined_binary = np.zeros_like(s_binary)\n",
    "combined_binary[(s_binary == 1) | (sobel_binary == 1)] = 1\n",
    "\n",
    "# Plotting thresholded images\n",
    "f, (ax1, ax2) = plt.subplots(1, 2, figsize=(20, 10))\n",
    "ax1.set_title('Stacked thresholds', fontsize=20)\n",
    "ax1.imshow(color_binary, cmap='gray')\n",
    "\n",
    "ax2.set_title('Combined S channel and gradient thresholds', fontsize=20)\n",
    "ax2.imshow(combined_binary, cmap='gray')"
   ]
  },
  {
   "cell_type": "code",
   "execution_count": null,
   "metadata": {
    "collapsed": true
   },
   "outputs": [],
   "source": [
    "def pipeline(image, mtx, dist):\n",
    "    img = np.copy(image)\n",
    "    img = cv2.undistort(img, mtx, dist, None, mtx)\n",
    "\n",
    "    hls = cv2.cvtColor(img, cv2.COLOR_BGR2HLS)\n",
    "    s = hls[:, :, 2]\n",
    "    thresh = (90, 255)\n",
    "    s_binary = np.zeros_like(s)\n",
    "    s_binary[(s >= thresh[0]) & (s <= thresh[1])] = 1\n",
    "\n",
    "    gray = cv2.cvtColor(img, cv2.COLOR_BGR2GRAY)\n",
    "    sobel = cv2.Sobel(s, cv2.CV_64F, 1, 0)\n",
    "    sobel = np.absolute(sobel)\n",
    "    sobel = np.uint8(255 * sobel / np.max(sobel))\n",
    "    thresh = (20, 100)\n",
    "    sobel_binary = np.zeros_like(sobel)\n",
    "    sobel_binary[(sobel >= thresh[0]) & (sobel <= thresh[1])] = 1\n",
    "\n",
    "    combined_binary = np.zeros_like(s_binary)\n",
    "    combined_binary[(s_binary == 1) | (sobel_binary == 1)] = 1\n",
    "    return combined_binary"
   ]
  },
  {
   "cell_type": "code",
   "execution_count": null,
   "metadata": {
    "collapsed": false
   },
   "outputs": [],
   "source": [
    "test_image = 'test_images/straight_lines1.jpg'\n",
    "img = cv2.imread(test_image)\n",
    "f, (ax1, ax2) = plt.subplots(1, 2, figsize=(20, 10))\n",
    "ax1.set_title('original image', fontsize=20)\n",
    "ax1.imshow(cv2.cvtColor(img, cv2.COLOR_BGR2RGB))\n",
    "\n",
    "ax2.set_title('undistorted, combined s channel and gradient thresholds', fontsize=20)\n",
    "ax2.imshow(pipeline(img, mtx, dist), cmap='gray')"
   ]
  },
  {
   "cell_type": "code",
   "execution_count": null,
   "metadata": {
    "collapsed": false
   },
   "outputs": [],
   "source": [
    "from matplotlib.path import Path\n",
    "import matplotlib.patches as patches\n",
    "height = img.shape[0]\n",
    "\n",
    "src = np.float32([(190, 719), (577, 460), (705, 460), (1120, 719)])\n",
    "plt.figure(figsize=(20, 10))\n",
    "plt.imshow(cv2.cvtColor(img, cv2.COLOR_BGR2RGB))\n",
    "plt.plot([src[i][0] for i in range(4)],\n",
    "         [src[i][1] for i in range(4)],\n",
    "         'r-', lw=2)"
   ]
  },
  {
   "cell_type": "code",
   "execution_count": null,
   "metadata": {
    "collapsed": false
   },
   "outputs": [],
   "source": [
    "#src = np.float32([(190, 719), (534, 490), (753, 490), (1120, 719)])\n",
    "dst = np.float32([(190, 719), (190, 0), (1120, 0), (1120, 719)])\n",
    "M = cv2.getPerspectiveTransform(src, dst)\n",
    "warped = cv2.warpPerspective(img, M, (img.shape[1], img.shape[0]))\n",
    "plt.figure(figsize=(20, 10))\n",
    "plt.imshow(cv2.cvtColor(warped, cv2.COLOR_BGR2RGB))\n",
    "plt.plot([dst[i][0] for i in range(4)], [dst[i][1] for i in range(4)], 'r-', lw=2)"
   ]
  },
  {
   "cell_type": "code",
   "execution_count": null,
   "metadata": {
    "collapsed": true
   },
   "outputs": [],
   "source": [
    "def pipeline(image, mtx, dist, M):\n",
    "    img = np.copy(image)\n",
    "    img = cv2.undistort(img, mtx, dist, None, mtx)\n",
    "\n",
    "    hls = cv2.cvtColor(img, cv2.COLOR_BGR2HLS)\n",
    "    s = hls[:, :, 2]\n",
    "    thresh = (90, 255)\n",
    "    s_binary = np.zeros_like(s)\n",
    "    s_binary[(s >= thresh[0]) & (s <= thresh[1])] = 1\n",
    "\n",
    "    gray = cv2.cvtColor(img, cv2.COLOR_BGR2GRAY)\n",
    "    sobel = cv2.Sobel(s, cv2.CV_64F, 1, 0)\n",
    "    sobel = np.absolute(sobel)\n",
    "    sobel = np.uint8(255 * sobel / np.max(sobel))\n",
    "    thresh = (30, 100)\n",
    "    sobel_binary = np.zeros_like(sobel)\n",
    "    sobel_binary[(sobel >= thresh[0]) & (sobel <= thresh[1])] = 1\n",
    "\n",
    "    combined_binary = np.zeros_like(s_binary)\n",
    "    combined_binary[(s_binary == 1) | (sobel_binary == 1)] = 1\n",
    "    \n",
    "    warped = cv2.warpPerspective(combined_binary, M, (img.shape[1], img.shape[0]))\n",
    "    return warped"
   ]
  },
  {
   "cell_type": "code",
   "execution_count": null,
   "metadata": {
    "collapsed": false
   },
   "outputs": [],
   "source": [
    "test_image = 'test_images/straight_lines1.jpg'\n",
    "img = cv2.imread(test_image)\n",
    "f, (ax1, ax2) = plt.subplots(1, 2, figsize=(20, 10))\n",
    "ax1.set_title('original image', fontsize=20)\n",
    "ax1.imshow(cv2.cvtColor(img, cv2.COLOR_BGR2RGB))\n",
    "\n",
    "processed = pipeline(img, mtx, dist, M)\n",
    "ax2.set_title('undistorted, combined s channel and gradient thresholds', fontsize=20)\n",
    "ax2.imshow(processed, cmap='gray')"
   ]
  },
  {
   "cell_type": "code",
   "execution_count": null,
   "metadata": {
    "collapsed": false
   },
   "outputs": [],
   "source": [
    "histogram = np.sum(processed[processed.shape[0] // 2:,:], axis=0)\n",
    "plt.plot(histogram)"
   ]
  },
  {
   "cell_type": "code",
   "execution_count": null,
   "metadata": {
    "collapsed": false
   },
   "outputs": [],
   "source": [
    "img = processed\n",
    "out_img = np.dstack((img, img, img)) * 255\n",
    "midpoint = np.int(histogram.shape[0] / 2)\n",
    "lx_base = np.argmax(histogram[:midpoint])\n",
    "rx_base = np.argmax(histogram[midpoint:]) + midpoint\n",
    "\n",
    "n_windows = 9\n",
    "window_height = np.int(processed.shape[0] / n_windows)\n",
    "\n",
    "# Identify the x and y positions of all nonzero pixels in the image\n",
    "nonzero = processed.nonzero()\n",
    "nonzeroy = np.array(nonzero[0])\n",
    "nonzerox = np.array(nonzero[1])\n",
    "\n",
    "# Current positions to be updated for each window\n",
    "lx_current = leftx_base\n",
    "rx_current = rightx_base\n",
    "\n",
    "# Set the width of the windows +/- margin\n",
    "margin = 100\n",
    "\n",
    "# Set minimum number of pixels found to recenter window\n",
    "minpix = 50\n",
    "\n",
    "# Create empty lists to receive left and right lane pixel indices\n",
    "l_indices = []\n",
    "r_indices = []\n",
    "\n",
    "# Step through the windows one by one\n",
    "for w in range(nwindows):\n",
    "    # Identify window boundaries in x and y (and right and left)\n",
    "    wy_low = processed.shape[0] - (w + 1) * window_height\n",
    "    wy_high = processed.shape[0] - w * window_height\n",
    "    wxl_low = lx_current - margin\n",
    "    wxl_high = lx_current + margin\n",
    "    wxr_low = rx_current - margin\n",
    "    wxr_high = rx_current + margin\n",
    "    \n",
    "    # Draw the windows on the visualization image\n",
    "    cv2.rectangle(out_img, (wxl_low, wy_low), (wxl_high, wy_high), (0, 255, 0), 2) \n",
    "    cv2.rectangle(out_img, (wxr_low, wy_low), (wxr_high, wy_high), (0, 255, 0), 2) \n",
    "    \n",
    "    # Identify the nonzero pixels in x and y within the window\n",
    "    good_left_inds = ((nonzeroy >= wy_low) & (nonzeroy < win_y_high) & (nonzerox >= win_xleft_low) & (nonzerox < win_xleft_high)).nonzero()[0]\n",
    "    good_right_inds = ((nonzeroy >= wy_low) & (nonzeroy < win_y_high) & (nonzerox >= win_xright_low) & (nonzerox < win_xright_high)).nonzero()[0]\n",
    "    # Append these indices to the lists\n",
    "    left_lane_inds.append(good_left_inds)\n",
    "    right_lane_inds.append(good_right_inds)\n",
    "    # If you found > minpix pixels, recenter next window on their mean position\n",
    "    if len(good_left_inds) > minpix:\n",
    "        leftx_current = np.int(np.mean(nonzerox[good_left_inds]))\n",
    "    if len(good_right_inds) > minpix:        \n",
    "        rightx_current = np.int(np.mean(nonzerox[good_right_inds]))\n",
    "\n",
    "# Concatenate the arrays of indices\n",
    "left_lane_inds = np.concatenate(left_lane_inds)\n",
    "right_lane_inds = np.concatenate(right_lane_inds)\n",
    "\n",
    "# Extract left and right line pixel positions\n",
    "leftx = nonzerox[left_lane_inds]\n",
    "lefty = nonzeroy[left_lane_inds] \n",
    "rightx = nonzerox[right_lane_inds]\n",
    "righty = nonzeroy[right_lane_inds] \n",
    "\n",
    "# Fit a second order polynomial to each\n",
    "left_fit = np.polyfit(lefty, leftx, 2)\n",
    "right_fit = np.polyfit(righty, rightx, 2)\n",
    "\n",
    "# Generate x and y values for plotting\n",
    "ploty = np.linspace(0, processed.shape[0]-1, processed.shape[0] )\n",
    "left_fitx = left_fit[0]*ploty**2 + left_fit[1]*ploty + left_fit[2]\n",
    "right_fitx = right_fit[0]*ploty**2 + right_fit[1]*ploty + right_fit[2]\n",
    "\n",
    "out_img[nonzeroy[left_lane_inds], nonzerox[left_lane_inds]] = [255, 0, 0]\n",
    "out_img[nonzeroy[right_lane_inds], nonzerox[right_lane_inds]] = [0, 0, 255]\n",
    "plt.imshow(out_img)\n",
    "plt.plot(left_fitx, ploty, color='yellow')\n",
    "plt.plot(right_fitx, ploty, color='yellow')\n",
    "plt.xlim(0, 1280)\n",
    "plt.ylim(720, 0)"
   ]
  },
  {
   "cell_type": "code",
   "execution_count": null,
   "metadata": {
    "collapsed": false
   },
   "outputs": [],
   "source": [
    "# Create an image to draw on and an image to show the selection window\n",
    "out_img = np.dstack((processed, processed, processed))*255\n",
    "window_img = np.zeros_like(out_img)\n",
    "# Color in left and right line pixels\n",
    "out_img[nonzeroy[left_lane_inds], nonzerox[left_lane_inds]] = [255, 0, 0]\n",
    "out_img[nonzeroy[right_lane_inds], nonzerox[right_lane_inds]] = [0, 0, 255]\n",
    "\n",
    "# Generate a polygon to illustrate the search window area\n",
    "# And recast the x and y points into usable format for cv2.fillPoly()\n",
    "left_line_window1 = np.array([np.transpose(np.vstack([left_fitx-margin, ploty]))])\n",
    "left_line_window2 = np.array([np.flipud(np.transpose(np.vstack([left_fitx+margin, ploty])))])\n",
    "left_line_pts = np.hstack((left_line_window1, left_line_window2))\n",
    "right_line_window1 = np.array([np.transpose(np.vstack([right_fitx-margin, ploty]))])\n",
    "right_line_window2 = np.array([np.flipud(np.transpose(np.vstack([right_fitx+margin, ploty])))])\n",
    "right_line_pts = np.hstack((right_line_window1, right_line_window2))\n",
    "\n",
    "# Draw the lane onto the warped blank image\n",
    "cv2.fillPoly(window_img, np.int_([left_line_pts]), (0,255, 0))\n",
    "cv2.fillPoly(window_img, np.int_([right_line_pts]), (0,255, 0))\n",
    "result = cv2.addWeighted(out_img, 1, window_img, 0.3, 0)\n",
    "plt.imshow(result)\n",
    "plt.plot(left_fitx, ploty, color='yellow')\n",
    "plt.plot(right_fitx, ploty, color='yellow')\n",
    "plt.xlim(0, 1280)\n",
    "plt.ylim(720, 0)"
   ]
  },
  {
   "cell_type": "code",
   "execution_count": null,
   "metadata": {
    "collapsed": false
   },
   "outputs": [],
   "source": [
    "# Generate some fake data to represent lane-line pixels\n",
    "ploty = np.linspace(0, 719, num=720)# to cover same y-range as image\n",
    "quadratic_coeff = 3e-4 # arbitrary quadratic coefficient\n",
    "# For each y position generate random x position within +/-50 pix\n",
    "# of the line base position in each case (x=200 for left, and x=900 for right)\n",
    "leftx = np.array([200 + (y**2)*quadratic_coeff + np.random.randint(-50, high=51) \n",
    "                              for y in ploty])\n",
    "rightx = np.array([900 + (y**2)*quadratic_coeff + np.random.randint(-50, high=51) \n",
    "                                for y in ploty])\n",
    "\n",
    "leftx = leftx[::-1]  # Reverse to match top-to-bottom in y\n",
    "rightx = rightx[::-1]  # Reverse to match top-to-bottom in y\n",
    "\n",
    "\n",
    "# Fit a second order polynomial to pixel positions in each fake lane line\n",
    "left_fit = np.polyfit(ploty, leftx, 2)\n",
    "left_fitx = left_fit[0]*ploty**2 + left_fit[1]*ploty + left_fit[2]\n",
    "right_fit = np.polyfit(ploty, rightx, 2)\n",
    "right_fitx = right_fit[0]*ploty**2 + right_fit[1]*ploty + right_fit[2]\n",
    "\n",
    "# Plot up the fake data\n",
    "mark_size = 3\n",
    "plt.plot(leftx, ploty, 'o', color='red', markersize=mark_size)\n",
    "plt.plot(rightx, ploty, 'o', color='blue', markersize=mark_size)\n",
    "plt.xlim(0, 1280)\n",
    "plt.ylim(0, 720)\n",
    "plt.plot(left_fitx, ploty, color='green', linewidth=3)\n",
    "plt.plot(right_fitx, ploty, color='green', linewidth=3)\n",
    "plt.gca().invert_yaxis() # to visualize as we do the images"
   ]
  },
  {
   "cell_type": "code",
   "execution_count": null,
   "metadata": {
    "collapsed": false
   },
   "outputs": [],
   "source": [
    "# Define y-value where we want radius of curvature\n",
    "# I'll choose the maximum y-value, corresponding to the bottom of the image\n",
    "y_eval = np.max(ploty)\n",
    "left_curverad = ((1 + (2*left_fit[0]*y_eval + left_fit[1])**2)**1.5) / np.absolute(2*left_fit[0])\n",
    "right_curverad = ((1 + (2*right_fit[0]*y_eval + right_fit[1])**2)**1.5) / np.absolute(2*right_fit[0])\n",
    "print(left_curverad, right_curverad)\n",
    "# Example values: 1926.74 1908.48"
   ]
  },
  {
   "cell_type": "code",
   "execution_count": null,
   "metadata": {
    "collapsed": false
   },
   "outputs": [],
   "source": [
    "# Define conversions in x and y from pixels space to meters\n",
    "ym_per_pix = 30/720 # meters per pixel in y dimension\n",
    "xm_per_pix = 3.7/700 # meters per pixel in x dimension\n",
    "\n",
    "# Fit new polynomials to x,y in world space\n",
    "left_fit_cr = np.polyfit(ploty*ym_per_pix, leftx*xm_per_pix, 2)\n",
    "right_fit_cr = np.polyfit(ploty*ym_per_pix, rightx*xm_per_pix, 2)\n",
    "# Calculate the new radii of curvature\n",
    "left_curverad = ((1 + (2*left_fit_cr[0]*y_eval*ym_per_pix + left_fit_cr[1])**2)**1.5) / np.absolute(2*left_fit_cr[0])\n",
    "right_curverad = ((1 + (2*right_fit_cr[0]*y_eval*ym_per_pix + right_fit_cr[1])**2)**1.5) / np.absolute(2*right_fit_cr[0])\n",
    "# Now our radius of curvature is in meters\n",
    "print(left_curverad, 'm', right_curverad, 'm')\n",
    "# Example values: 632.1 m    626.2 m"
   ]
  },
  {
   "cell_type": "code",
   "execution_count": null,
   "metadata": {
    "collapsed": true
   },
   "outputs": [],
   "source": []
  }
 ],
 "metadata": {
  "kernelspec": {
   "display_name": "Python 3",
   "language": "python",
   "name": "python3"
  },
  "language_info": {
   "codemirror_mode": {
    "name": "ipython",
    "version": 3
   },
   "file_extension": ".py",
   "mimetype": "text/x-python",
   "name": "python",
   "nbconvert_exporter": "python",
   "pygments_lexer": "ipython3",
   "version": "3.6.1"
  }
 },
 "nbformat": 4,
 "nbformat_minor": 2
}
